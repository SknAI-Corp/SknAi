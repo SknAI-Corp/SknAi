{
 "cells": [
  {
   "cell_type": "code",
   "execution_count": 1,
   "metadata": {},
   "outputs": [],
   "source": [
    "# %%\n",
    "import torch\n",
    "import timm\n",
    "import numpy as np\n",
    "import matplotlib.pyplot as plt\n",
    "import seaborn as sns\n",
    "from datasets import load_dataset\n",
    "from torchvision import transforms\n",
    "from torch.utils.data import DataLoader, Dataset\n",
    "import torch.nn as nn\n",
    "import torch.optim as optim\n",
    "from PIL import Image\n",
    "from sklearn.metrics import confusion_matrix, classification_report\n",
    "import pandas as pd\n",
    "\n",
    "# %%\n",
    "# ================================\n",
    "# 1️⃣ LOAD DATASET\n",
    "# ================================\n",
    "dataset_name = \"Team-SknAI/SknAI_300_v3_11Labels\"\n",
    "datasets = load_dataset(dataset_name)\n",
    "datasets = datasets[\"train\"].train_test_split(test_size=0.2, stratify_by_column=\"label\")"
   ]
  },
  {
   "cell_type": "code",
   "execution_count": 2,
   "metadata": {},
   "outputs": [],
   "source": [
    "# ================================\n",
    "# 2️⃣ DEFINE TRANSFORMATIONS\n",
    "# ================================\n",
    "transform = transforms.Compose([\n",
    "    transforms.Resize((224, 224)),\n",
    "    transforms.RandomHorizontalFlip(),\n",
    "    transforms.ToTensor(),\n",
    "    transforms.Normalize(mean=[0.485, 0.456, 0.406], std=[0.229, 0.224, 0.225])\n",
    "])\n",
    "\n",
    "# ================================\n",
    "# 3️⃣ CUSTOM DATASET CLASS\n",
    "# ================================\n",
    "class SkinDataset(Dataset):\n",
    "    def __init__(self, dataset, transform):\n",
    "        self.dataset = dataset\n",
    "        self.transform = transform\n",
    "\n",
    "    def __len__(self):\n",
    "        return len(self.dataset)\n",
    "\n",
    "    def __getitem__(self, idx):\n",
    "        try:\n",
    "            img = self.dataset[idx][\"image\"]\n",
    "            img = Image.fromarray(np.array(img).astype(\"uint8\"))\n",
    "            img = img.convert(\"RGB\")\n",
    "            img = self.transform(img)\n",
    "            label = torch.tensor(self.dataset[idx][\"label\"], dtype=torch.long)\n",
    "            return img, label\n",
    "        except Exception as e:\n",
    "            print(f\"Error loading image at index {idx}: {e}\")\n",
    "            return torch.zeros(3, 224, 224), torch.tensor(0)\n",
    "\n",
    "# ================================\n",
    "# 4️⃣ CREATE DATA LOADERS\n",
    "# ================================\n",
    "train_dataset = SkinDataset(datasets[\"train\"], transform)\n",
    "val_dataset = SkinDataset(datasets[\"test\"], transform)\n",
    "\n",
    "train_loader = DataLoader(train_dataset, batch_size=64, shuffle=True, num_workers=0)\n",
    "val_loader = DataLoader(val_dataset, batch_size=64, shuffle=False, num_workers=0)\n",
    "\n"
   ]
  },
  {
   "cell_type": "code",
   "execution_count": 3,
   "metadata": {},
   "outputs": [],
   "source": [
    "# ================================\n",
    "# 5️⃣ DEFINE MODEL\n",
    "# ================================\n",
    "class DenseNet121Model(nn.Module):\n",
    "    def __init__(self, num_classes):\n",
    "        super(DenseNet121Model, self).__init__()\n",
    "        self.model = timm.create_model(\"densenet121\", pretrained=True, num_classes=num_classes)\n",
    "        in_features = self.model.classifier.in_features\n",
    "        self.model.classifier = nn.Sequential(\n",
    "            nn.Linear(in_features, 512),\n",
    "            nn.ReLU(),\n",
    "            nn.Dropout(0.3),\n",
    "            nn.Linear(512, num_classes)\n",
    "        )\n",
    "\n",
    "    def forward(self, x):\n",
    "        return self.model(x)\n",
    "\n",
    "num_classes = len(datasets[\"train\"].features[\"label\"].names)\n",
    "model = DenseNet121Model(num_classes)\n",
    "\n",
    "\n",
    "# %%\n",
    "# ================================\n",
    "# 6️⃣ TRAINING SETUP\n",
    "# ================================\n",
    "device = torch.device(\"cuda\" if torch.cuda.is_available() else \"cpu\")\n",
    "model.to(device)\n",
    "\n",
    "criterion = nn.CrossEntropyLoss()\n",
    "optimizer = optim.AdamW(model.parameters(), lr=5e-4, weight_decay=5e-4)\n",
    "scheduler = torch.optim.lr_scheduler.CosineAnnealingLR(optimizer, T_max=10, eta_min=1e-6)\n"
   ]
  },
  {
   "cell_type": "code",
   "execution_count": 4,
   "metadata": {},
   "outputs": [
    {
     "name": "stderr",
     "output_type": "stream",
     "text": [
      "c:\\Users\\vivek\\AppData\\Local\\Programs\\Python\\Python312\\Lib\\site-packages\\PIL\\Image.py:3186: DecompressionBombWarning: Image size (108000000 pixels) exceeds limit of 89478485 pixels, could be decompression bomb DOS attack.\n",
      "  warnings.warn(\n"
     ]
    },
    {
     "name": "stdout",
     "output_type": "stream",
     "text": [
      "Epoch 1/15 - Loss: 51.1400, Train Accuracy: 61.55%\n",
      "Epoch 2/15 - Loss: 18.3476, Train Accuracy: 85.57%\n",
      "Epoch 3/15 - Loss: 11.8029, Train Accuracy: 91.59%\n",
      "Epoch 4/15 - Loss: 6.3409, Train Accuracy: 95.68%\n",
      "Epoch 5/15 - Loss: 3.4451, Train Accuracy: 97.39%\n",
      "Epoch 6/15 - Loss: 2.1885, Train Accuracy: 98.45%\n",
      "Epoch 7/15 - Loss: 1.6309, Train Accuracy: 98.45%\n",
      "Epoch 8/15 - Loss: 1.0640, Train Accuracy: 99.28%\n",
      "Epoch 9/15 - Loss: 0.9395, Train Accuracy: 99.39%\n",
      "Epoch 10/15 - Loss: 0.6009, Train Accuracy: 99.58%\n",
      "Epoch 11/15 - Loss: 0.6882, Train Accuracy: 99.62%\n",
      "Epoch 12/15 - Loss: 0.7937, Train Accuracy: 99.58%\n",
      "Epoch 13/15 - Loss: 0.5672, Train Accuracy: 99.62%\n",
      "Epoch 14/15 - Loss: 1.0030, Train Accuracy: 99.58%\n",
      "Epoch 15/15 - Loss: 0.8395, Train Accuracy: 99.51%\n"
     ]
    }
   ],
   "source": [
    "# ================================\n",
    "# 7️⃣ TRAINING LOOP WITH TRACKING\n",
    "# ================================\n",
    "EPOCHS = 15\n",
    "train_losses, val_losses = [], []\n",
    "train_accuracies, val_accuracies = [], []\n",
    "\n",
    "for epoch in range(EPOCHS):\n",
    "    model.train()\n",
    "    running_loss, correct, total = 0.0, 0, 0\n",
    "    \n",
    "    for inputs, labels in train_loader:\n",
    "        inputs, labels = inputs.to(device), labels.to(device)\n",
    "        optimizer.zero_grad()\n",
    "        outputs = model(inputs)\n",
    "        loss = criterion(outputs, labels)\n",
    "        loss.backward()\n",
    "        optimizer.step()\n",
    "\n",
    "        running_loss += loss.item()\n",
    "        correct += (outputs.argmax(dim=1) == labels).sum().item()\n",
    "        total += labels.size(0)\n",
    "    \n",
    "    scheduler.step()\n",
    "    train_losses.append(running_loss / len(train_loader))\n",
    "    train_accuracies.append(100 * correct / total)\n",
    "\n",
    "    print(f\"Epoch {epoch+1}/{EPOCHS} - Loss: {running_loss:.4f}, Train Accuracy: {train_accuracies[-1]:.2f}%\")\n",
    "\n"
   ]
  },
  {
   "cell_type": "code",
   "execution_count": 5,
   "metadata": {},
   "outputs": [
    {
     "name": "stdout",
     "output_type": "stream",
     "text": [
      "Test Accuracy: 90.00%\n"
     ]
    }
   ],
   "source": [
    "# ================================\n",
    "# 8️⃣ EVALUATION & METRICS\n",
    "# ================================\n",
    "model.eval()\n",
    "correct, total = 0, 0\n",
    "y_true, y_pred = [], []\n",
    "\n",
    "with torch.no_grad():\n",
    "    for inputs, labels in val_loader:\n",
    "        inputs, labels = inputs.to(device), labels.to(device)\n",
    "        outputs = model(inputs)\n",
    "        preds = outputs.argmax(dim=1)\n",
    "        correct += (preds == labels).sum().item()\n",
    "        total += labels.size(0)\n",
    "        y_true.extend(labels.cpu().numpy())\n",
    "        y_pred.extend(preds.cpu().numpy())\n",
    "\n",
    "val_accuracy = 100 * correct / total\n",
    "val_accuracies.append(val_accuracy)\n",
    "print(f\"Test Accuracy: {val_accuracy:.2f}%\")"
   ]
  }
 ],
 "metadata": {
  "kernelspec": {
   "display_name": "Python 3",
   "language": "python",
   "name": "python3"
  },
  "language_info": {
   "codemirror_mode": {
    "name": "ipython",
    "version": 3
   },
   "file_extension": ".py",
   "mimetype": "text/x-python",
   "name": "python",
   "nbconvert_exporter": "python",
   "pygments_lexer": "ipython3",
   "version": "3.12.2"
  }
 },
 "nbformat": 4,
 "nbformat_minor": 2
}
