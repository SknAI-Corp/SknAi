{
 "cells": [
  {
   "cell_type": "code",
   "execution_count": 1,
   "metadata": {},
   "outputs": [],
   "source": [
    "#!pip install torch torchvision timm numpy matplotlib seaborn datasets pillow scikit-learn pandas\n"
   ]
  },
  {
   "cell_type": "code",
   "execution_count": 1,
   "metadata": {},
   "outputs": [],
   "source": [
    "import torch\n",
    "import timm\n",
    "import numpy as np\n",
    "import matplotlib.pyplot as plt\n",
    "import seaborn as sns\n",
    "from datasets import load_dataset\n",
    "from torchvision import transforms\n",
    "from torch.utils.data import DataLoader, Dataset\n",
    "import torch.nn as nn\n",
    "import torch.optim as optim\n",
    "from PIL import Image\n",
    "from sklearn.metrics import confusion_matrix, classification_report\n",
    "import pandas as pd\n",
    "from timm.data.mixup import Mixup\n",
    "from torch.optim.lr_scheduler import CosineAnnealingWarmRestarts, ReduceLROnPlateau\n",
    "\n",
    "# ================================\n",
    "# 1️⃣ LOAD DATASET\n",
    "# ================================\n",
    "dataset_name = \"Team-SknAI/SknAI_300_v3_11Labels\"\n",
    "datasets = load_dataset(dataset_name)\n",
    "datasets = datasets[\"train\"].train_test_split(test_size=0.2, stratify_by_column=\"label\")"
   ]
  },
  {
   "cell_type": "code",
   "execution_count": 2,
   "metadata": {},
   "outputs": [],
   "source": [
    "# ================================\n",
    "# 2️⃣ DEFINE TRANSFORMATIONS\n",
    "# ================================\n",
    "transform = transforms.Compose([\n",
    "    transforms.RandomAffine(degrees=10, translate=(0.1, 0.1), shear=10),\n",
    "    transforms.GaussianBlur(kernel_size=3),\n",
    "    transforms.Resize((224, 224)),\n",
    "    transforms.RandomHorizontalFlip(),\n",
    "    transforms.RandomRotation(10),\n",
    "    transforms.ColorJitter(brightness=0.2, contrast=0.2),\n",
    "    transforms.ToTensor(),\n",
    "    transforms.Normalize(mean=[0.485, 0.456, 0.406], std=[0.229, 0.224, 0.225])\n",
    "])\n",
    "\n",
    "# ================================\n",
    "# 3️⃣ CUSTOM DATASET CLASS\n",
    "# ================================\n",
    "class SkinDataset(Dataset):\n",
    "    def __init__(self, dataset, transform):\n",
    "        self.dataset = dataset\n",
    "        self.transform = transform\n",
    "\n",
    "    def __len__(self):\n",
    "        return len(self.dataset)\n",
    "\n",
    "    def __getitem__(self, idx):\n",
    "        img = self.dataset[idx][\"image\"]\n",
    "        img = Image.fromarray(np.array(img).astype(\"uint8\")).convert(\"RGB\")\n",
    "        img = self.transform(img)\n",
    "        label = torch.tensor(self.dataset[idx][\"label\"], dtype=torch.long)\n",
    "        return img, label\n",
    "\n",
    "# ================================\n",
    "# 4️⃣ CREATE DATA LOADERS\n",
    "# ================================\n",
    "train_dataset = SkinDataset(datasets[\"train\"], transform)\n",
    "val_dataset = SkinDataset(datasets[\"test\"], transform)\n",
    "\n",
    "train_loader = DataLoader(train_dataset, batch_size=64, shuffle=True, num_workers=0)\n",
    "val_loader = DataLoader(val_dataset, batch_size=64, shuffle=False, num_workers=0)\n"
   ]
  },
  {
   "cell_type": "code",
   "execution_count": null,
   "metadata": {},
   "outputs": [
    {
     "name": "stderr",
     "output_type": "stream",
     "text": [
      "c:\\Users\\vivek\\AppData\\Local\\Programs\\Python\\Python312\\Lib\\site-packages\\torch\\optim\\lr_scheduler.py:62: UserWarning: The verbose parameter is deprecated. Please use get_last_lr() to access the learning rate.\n",
      "  warnings.warn(\n"
     ]
    }
   ],
   "source": [
    "# ================================\n",
    "# 5️⃣ DEFINE MODEL\n",
    "# ================================\n",
    "class DenseNet121Model(nn.Module):\n",
    "    def __init__(self, num_classes):\n",
    "        super(DenseNet121Model, self).__init__()\n",
    "        self.model = timm.create_model(\"densenet121\", pretrained=True, num_classes=num_classes)\n",
    "        in_features = self.model.classifier.in_features\n",
    "        self.model.classifier = nn.Sequential(\n",
    "            nn.Linear(in_features, 512),\n",
    "            nn.ReLU(),\n",
    "            nn.Dropout(0.5),\n",
    "            nn.Linear(512, num_classes)\n",
    "        )\n",
    "\n",
    "    def forward(self, x):\n",
    "        return self.model(x)\n",
    "\n",
    "num_classes = len(datasets[\"train\"].features[\"label\"].names)\n",
    "model = DenseNet121Model(num_classes)\n",
    "\n",
    "# ================================\n",
    "# 6️⃣ TRAINING SETUP\n",
    "# ================================\n",
    "device = torch.device(\"cuda\" if torch.cuda.is_available() else \"cpu\")\n",
    "model.to(device)\n",
    "\n",
    "criterion = nn.CrossEntropyLoss(label_smoothing=0.1)\n",
    "optimizer = optim.AdamW(model.parameters(), lr=5e-4, weight_decay=5e-4)\n",
    "scheduler = ReduceLROnPlateau(optimizer, mode='min', patience=3, factor=0.5, verbose=True)\n",
    "early_stopping = ReduceLROnPlateau(optimizer, mode='min', patience=3, factor=0.5, verbose=True)\n",
    "\n",
    "mixup_fn = Mixup(mixup_alpha=0.1, cutmix_alpha=0.5, num_classes=num_classes)"
   ]
  },
  {
   "cell_type": "code",
   "execution_count": 5,
   "metadata": {},
   "outputs": [
    {
     "name": "stderr",
     "output_type": "stream",
     "text": [
      "c:\\Users\\vivek\\AppData\\Local\\Programs\\Python\\Python312\\Lib\\site-packages\\PIL\\Image.py:3186: DecompressionBombWarning: Image size (108000000 pixels) exceeds limit of 89478485 pixels, could be decompression bomb DOS attack.\n",
      "  warnings.warn(\n"
     ]
    },
    {
     "name": "stdout",
     "output_type": "stream",
     "text": [
      "Epoch 1/10 - Loss: 1.5650, Train Accuracy: 71.44%\n",
      "Epoch 2/10 - Loss: 1.4928, Train Accuracy: 76.74%\n",
      "Epoch 3/10 - Loss: 1.3728, Train Accuracy: 82.84%\n",
      "Epoch 4/10 - Loss: 1.3055, Train Accuracy: 84.17%\n",
      "Epoch 5/10 - Loss: 1.4659, Train Accuracy: 77.88%\n",
      "Epoch 6/10 - Loss: 1.3912, Train Accuracy: 80.53%\n",
      "Epoch 7/10 - Loss: 1.3198, Train Accuracy: 84.58%\n",
      "Epoch 8/10 - Loss: 1.3824, Train Accuracy: 80.15%\n",
      "Epoch 9/10 - Loss: 1.3023, Train Accuracy: 88.94%\n",
      "Epoch 10/10 - Loss: 1.1594, Train Accuracy: 93.11%\n"
     ]
    }
   ],
   "source": [
    "# ================================\n",
    "# 7️⃣ TRAINING LOOP WITH EARLY STOPPING\n",
    "# ================================\n",
    "EPOCHS = 10\n",
    "train_losses, val_losses = [], []\n",
    "train_accuracies, val_accuracies = [], []\n",
    "best_acc = 0\n",
    "\n",
    "for epoch in range(EPOCHS):\n",
    "    model.train()\n",
    "    running_loss, correct, total = 0.0, 0, 0\n",
    "    \n",
    "    for inputs, labels in train_loader:\n",
    "        inputs, labels = inputs.to(device), labels.to(device)\n",
    "        inputs, labels = mixup_fn(inputs, labels)\n",
    "        \n",
    "        optimizer.zero_grad()\n",
    "        outputs = model(inputs)\n",
    "        loss = criterion(outputs, labels)\n",
    "        loss.backward()\n",
    "        optimizer.step()\n",
    "\n",
    "        running_loss += loss.item()\n",
    "        correct += (outputs.argmax(dim=1) == labels.argmax(dim=1)).sum().item()\n",
    "        total += labels.size(0)\n",
    "    \n",
    "    scheduler.step(running_loss)\n",
    "    early_stopping.step(running_loss)\n",
    "    train_losses.append(running_loss / len(train_loader))\n",
    "    train_accuracies.append(100 * correct / total)\n",
    "    \n",
    "    print(f\"Epoch {epoch+1}/{EPOCHS} - Loss: {train_losses[-1]:.4f}, Train Accuracy: {train_accuracies[-1]:.2f}%\")"
   ]
  },
  {
   "cell_type": "code",
   "execution_count": null,
   "metadata": {},
   "outputs": [],
   "source": [
    "    \n",
    "if train_accuracies[-1] > best_acc:\n",
    "    best_acc = train_accuracies[-1]\n",
    "    torch.save(model.state_dict(), \"best_model.pth\")"
   ]
  },
  {
   "cell_type": "code",
   "execution_count": 6,
   "metadata": {},
   "outputs": [
    {
     "name": "stdout",
     "output_type": "stream",
     "text": [
      "Test Accuracy: 88.48%\n"
     ]
    }
   ],
   "source": [
    "# ================================\n",
    "# 8️⃣ EVALUATION & TEST-TIME AUGMENTATION (TTA)\n",
    "# ================================\n",
    "def tta_predict(model, images, n_augments=5):\n",
    "    model.eval()\n",
    "    outputs = torch.stack([model(images) for _ in range(n_augments)]).mean(0)\n",
    "    return outputs.argmax(dim=1)\n",
    "\n",
    "model.eval()\n",
    "correct, total = 0, 0\n",
    "y_true, y_pred = [], []\n",
    "\n",
    "with torch.no_grad():\n",
    "    for inputs, labels in val_loader:\n",
    "        inputs, labels = inputs.to(device), labels.to(device)\n",
    "        preds = tta_predict(model, inputs)\n",
    "        correct += (preds == labels).sum().item()\n",
    "        total += labels.size(0)\n",
    "        y_true.extend(labels.cpu().numpy())\n",
    "        y_pred.extend(preds.cpu().numpy())\n",
    "\n",
    "val_accuracy = 100 * correct / total\n",
    "val_accuracies.append(val_accuracy)\n",
    "print(f\"Test Accuracy: {val_accuracy:.2f}%\")"
   ]
  },
  {
   "cell_type": "code",
   "execution_count": 7,
   "metadata": {},
   "outputs": [
    {
     "name": "stdout",
     "output_type": "stream",
     "text": [
      "                                           precision    recall  f1-score   support\n",
      "\n",
      "                                     Acne       0.88      0.83      0.85        60\n",
      "                                 Alopecia       0.97      0.97      0.97        60\n",
      "                                   Eczema       0.94      0.80      0.86        60\n",
      "      Fungal Infection (Nail or ringworm)       0.94      0.98      0.96        60\n",
      "                                   Herpes       0.70      0.77      0.73        60\n",
      "                              Normal Skin       0.98      0.98      0.98        60\n",
      "                                Psoriasis       0.73      0.73      0.73        60\n",
      "                                  Rosacea       0.87      0.92      0.89        60\n",
      "Viral Infection (Chicken-pox or shingles)       0.88      0.88      0.88        60\n",
      "                                 Vitiligo       0.97      0.98      0.98        60\n",
      "                                    Warts       0.90      0.88      0.89        60\n",
      "\n",
      "                                 accuracy                           0.88       660\n",
      "                                macro avg       0.89      0.88      0.89       660\n",
      "                             weighted avg       0.89      0.88      0.89       660\n",
      "\n"
     ]
    }
   ],
   "source": [
    "print(classification_report(y_true, y_pred, target_names=datasets[\"train\"].features[\"label\"].names))\n"
   ]
  }
 ],
 "metadata": {
  "kernelspec": {
   "display_name": "Python 3",
   "language": "python",
   "name": "python3"
  },
  "language_info": {
   "codemirror_mode": {
    "name": "ipython",
    "version": 3
   },
   "file_extension": ".py",
   "mimetype": "text/x-python",
   "name": "python",
   "nbconvert_exporter": "python",
   "pygments_lexer": "ipython3",
   "version": "3.12.2"
  }
 },
 "nbformat": 4,
 "nbformat_minor": 2
}
