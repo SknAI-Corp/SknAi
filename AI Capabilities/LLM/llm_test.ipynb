{
 "cells": [
  {
   "cell_type": "code",
   "execution_count": 1,
   "metadata": {},
   "outputs": [],
   "source": [
    "from langchain_core.messages.tool import ToolOutputMixin"
   ]
  },
  {
   "cell_type": "code",
   "execution_count": 2,
   "metadata": {},
   "outputs": [
    {
     "name": "stderr",
     "output_type": "stream",
     "text": [
      "c:\\Users\\vishw\\AppData\\Local\\Programs\\Python\\Python312\\Lib\\site-packages\\pinecone\\data\\index.py:1: TqdmWarning: IProgress not found. Please update jupyter and ipywidgets. See https://ipywidgets.readthedocs.io/en/stable/user_install.html\n",
      "  from tqdm.autonotebook import tqdm\n"
     ]
    }
   ],
   "source": [
    "import pinecone\n",
    "import torch\n",
    "from langchain.vectorstores import Pinecone\n",
    "from langchain.chains import RetrievalQA\n",
    "from langchain_core.prompts import ChatPromptTemplate\n",
    "from transformers import AutoModel, AutoTokenizer\n",
    "import os"
   ]
  },
  {
   "cell_type": "code",
   "execution_count": 3,
   "metadata": {},
   "outputs": [],
   "source": [
    "import os\n",
    "os.environ[\"MISTRAL_API_KEY\"] = \"4y9r3Ftj2aRO3SQN3NemBark2zBPmNaj\"\n",
    "os.environ[\"PINECONE_API_KEY\"] = \"pcsk_6ZnvJ4_LaaNJkoEP2q2ynCynb2eevEgncBitui8JGky9c5zr9GwcRizZyenNzj6mryY7xw\"\n",
    "os.environ[\"PINECONE_ENV\"] = \"us-east-1\""
   ]
  },
  {
   "cell_type": "code",
   "execution_count": 4,
   "metadata": {},
   "outputs": [],
   "source": [
    "# Initialize Pinecone\n",
    "pc = pinecone.Pinecone(api_key=os.environ[\"PINECONE_API_KEY\"])\n",
    "index_name = \"sknai\""
   ]
  },
  {
   "cell_type": "code",
   "execution_count": 5,
   "metadata": {},
   "outputs": [],
   "source": [
    "tokenizer = AutoTokenizer.from_pretrained(\"monologg/biobert_v1.1_pubmed\")\n",
    "model = AutoModel.from_pretrained(\"monologg/biobert_v1.1_pubmed\")\n",
    "\n",
    "def embed_text(text):\n",
    "    \"\"\"Generate BioBERT embeddings for a given text.\"\"\"\n",
    "    inputs = tokenizer(text, return_tensors=\"pt\", padding=True, truncation=True)\n",
    "    with torch.no_grad():\n",
    "        outputs = model(**inputs)\n",
    "    return outputs.last_hidden_state[:, 0, :].squeeze().tolist() "
   ]
  },
  {
   "cell_type": "code",
   "execution_count": 6,
   "metadata": {},
   "outputs": [
    {
     "name": "stderr",
     "output_type": "stream",
     "text": [
      "C:\\Users\\vishw\\AppData\\Local\\Temp\\ipykernel_9836\\1600786067.py:1: LangChainDeprecationWarning: The class `Pinecone` was deprecated in LangChain 0.0.18 and will be removed in 1.0. An updated version of the class exists in the :class:`~langchain-pinecone package and should be used instead. To use it run `pip install -U :class:`~langchain-pinecone` and import as `from :class:`~langchain_pinecone import Pinecone``.\n",
      "  vector_store = Pinecone(\n",
      "c:\\Users\\vishw\\AppData\\Local\\Programs\\Python\\Python312\\Lib\\site-packages\\langchain_community\\vectorstores\\pinecone.py:68: UserWarning: Passing in `embedding` as a Callable is deprecated. Please pass in an Embeddings object instead.\n",
      "  warnings.warn(\n"
     ]
    }
   ],
   "source": [
    "vector_store = Pinecone(\n",
    "    index=pc.Index(index_name),  # Use the Pinecone client to access the index\n",
    "    embedding=embed_text,        # Use the embedding function\n",
    "    text_key=\"text\"              # Assuming 'text' is the key for the documents\n",
    ")"
   ]
  },
  {
   "cell_type": "code",
   "execution_count": 7,
   "metadata": {},
   "outputs": [
    {
     "name": "stdout",
     "output_type": "stream",
     "text": [
      "\n",
      "Direct Pinecone Query Results:\n",
      "Score: 0.797986448\n",
      "Metadata: {'chunk_id': '784', 'text': 'gradually heals with routine care.One other rare complication only occurs with the largest ofcapillary angiomas.Blood platelets become sequestered in the abnor- mal vascular channels of the angioma,creating a consumption coagulopathy and uncontrolled bleeding (Katzenbach–Merritt syndrome).The bleeding can be dealt Figure 12.20 Small strawberry naevus on the with by administration ofsystemic steroids. left side of the nose. CAVERNOUS HAEMANGIOMA This is a soft, compressible, mauvish-blue'}\n",
      "Score: 0.79529649\n",
      "Metadata: {'chunk_id': '1063', 'text': 'dreadful facial scarring,with hirsutes.This combi- nation ofclinical features has suggested to some that these patients provoked the fable of‘werewolves’. 261 Metabolic disorders and reticulohistiocytic proliferative disorders HAEMOCHROMATOSIS (BRONZED DIABETES) There are primary and symptomatic forms ofthis disorder.In the primary form, there is excessive gastrointestinal absorption of iron,resulting in iron deposition in the liver,testes,skin and pancreas.Involvement ofthe skin causes a'}\n",
      "Score: 0.795106411\n",
      "Metadata: {'chunk_id': '1005', 'text': 'and other Rarely,other neoplastic diseases reticuloses Essential fatty acid deficiency Due to dietary deficiency,blind loop syndrome, or intestinal bypass operation Serum lipid-lowering drugs For example,nicotinamide,butyrophenones Leprosy Usually subsequent to treatment AIDS Accompanied by severe pruritus 245 Disorders of keratinization and other genodermatoses KERATOSIS PILARIS Horny plugs occur in the hair follicles ofthe outer aspect ofthe upper arms,form- ing sheets of pink,horny papules'}\n"
     ]
    }
   ],
   "source": [
    "query_embedding = embed_text(\"Symptoms of enzecma\")\n",
    "# Assuming your Pinecone index is accessible via pc.Index(index_name),\n",
    "# you can query it directly:\n",
    "pinecone_results = pc.Index(index_name).query(\n",
    "    vector=query_embedding,\n",
    "    top_k=3,\n",
    "    include_metadata=True\n",
    ")\n",
    "\n",
    "print(\"\\nDirect Pinecone Query Results:\")\n",
    "for match in pinecone_results[\"matches\"]:\n",
    "    print(\"Score:\", match[\"score\"])\n",
    "    print(\"Metadata:\", match.get(\"metadata\"))"
   ]
  },
  {
   "cell_type": "code",
   "execution_count": 8,
   "metadata": {},
   "outputs": [],
   "source": [
    "# Setup retriever\n",
    "retriever = vector_store.as_retriever(search_kwargs={\"k\": 100})\n",
    "\n",
    "import getpass\n",
    "import os\n",
    "\n",
    "if \"MISTRAL_API_KEY\" not in os.environ:\n",
    "    os.environ[\"MISTRAL_API_KEY\"] = getpass.getpass(\"Enter your Mistral API key: \")\n",
    "    \n",
    "from langchain_mistralai import ChatMistralAI\n",
    "\n",
    "llm = ChatMistralAI(\n",
    "    model=\"mistral-large-latest\",\n",
    "    temperature=0.4,\n",
    "    max_retries=2,\n",
    "   \n",
    ")\n"
   ]
  },
  {
   "cell_type": "code",
   "execution_count": 14,
   "metadata": {},
   "outputs": [],
   "source": [
    "prompt = ChatPromptTemplate.from_messages([\n",
    "    (\"system\", \" Identified diseasae is ezecma. Answer the questions user asked for the same using your own knowdegde and the information provided. Use simpler terms and act like you are explaining to a patient \"),\n",
    "    (\"human\", \"{question}\")\n",
    "])\n",
    "# Create RetrievalQA chain\n",
    "qa_chain = RetrievalQA.from_chain_type(\n",
    "    llm=llm,\n",
    "    chain_type=\"stuff\",  # Stuffing retrieved docs into the prompt\n",
    "    retriever=retriever,\n",
    "    return_source_documents=True\n",
    ")"
   ]
  },
  {
   "cell_type": "code",
   "execution_count": 15,
   "metadata": {},
   "outputs": [],
   "source": [
    "from langchain_core.messages.tool import ToolOutputMixin\n"
   ]
  },
  {
   "cell_type": "code",
   "execution_count": 11,
   "metadata": {},
   "outputs": [
    {
     "name": "stdout",
     "output_type": "stream",
     "text": [
      "Retrieved Documents:\n",
      "\n",
      "Document 1:\n",
      "Content: gradually heals with routine care.One other rare complication only occurs with the largest ofcapillary angiomas.Blood platelets become sequestered in the abnor- mal vascular channels of the angioma,creating a consumption coagulopathy and uncontrolled bleeding (Katzenbach–Merritt syndrome).The bleeding can be dealt Figure 12.20 Small strawberry naevus on the with by administration ofsystemic steroids. left side of the nose. CAVERNOUS HAEMANGIOMA This is a soft, compressible, mauvish-blue\n",
      "Metadata: {'chunk_id': '784'}\n",
      "\n",
      "Document 2:\n",
      "Content: skin is put together and how it functions in health.Although,at first glance,skin may appear quite complicated to the uniniti- ated, a slightly deeper look shows that there is a kind of elegant logic about its architecture,which is directed to subserving vital functions. THE SKIN SURFACE The skin surface is the delineation between living processes and the potentially injurious outside world and has not only a symbolic importance because of this, but also the important task ofpreventing and\n",
      "Metadata: {'chunk_id': '27'}\n",
      "\n",
      "Document 3:\n",
      "Content: also cause skin thinning Patients may produce a variety of lesions (dermatitis and marked infection. artefacta). Rarely,patients may harbour a delusion ● Imidazoles and povidone iodine preparations are that their skin is infested by insects. amongst the safest and most useful of the topical ● Dysmorphophobia describes the problem of antimicrobial agents. people’s distorted self-image (e.g. their nose is ● Skin surgery is a growing area of work for too big,they have too much hair).\n",
      "Metadata: {'chunk_id': '1279'}\n"
     ]
    }
   ],
   "source": [
    "query = \"What is bacterial infection?\"\n",
    "similar_docs = vector_store.similarity_search(query, k=3)  # top 3 similar documents\n",
    "\n",
    "print(\"Retrieved Documents:\")\n",
    "for i, doc in enumerate(similar_docs, start=1):\n",
    "    print(f\"\\nDocument {i}:\")\n",
    "    print(\"Content:\", doc.page_content)  # or doc.content if that's your field name\n",
    "    print(\"Metadata:\", doc.metadata)"
   ]
  },
  {
   "cell_type": "code",
   "execution_count": 16,
   "metadata": {},
   "outputs": [
    {
     "name": "stdout",
     "output_type": "stream",
     "text": [
      "AI Response: Based on the provided context, treatments for eczema include:\n",
      "\n",
      "1. **Emollients**: These are moisturizing treatments that help to reduce water loss and restore the skin's barrier function. They are a mainstay of treatment and should be applied frequently.\n",
      "\n",
      "2. **Topical Corticosteroids**: These are anti-inflammatory agents that can help reduce inflammation and symptoms of eczema. They come in different potencies.\n",
      "\n",
      "3. **Topical Immunomodulators**: These are non-steroidal anti-inflammatory agents, such as tacrolimus and pimecrolimus, which can be used for short-term and intermittent long-term treatment of eczema.\n",
      "\n",
      "4. **Systemic Therapies**: In severe cases, systemic therapies like oral corticosteroids, cyclosporine, methotrexate, azathioprine, and dupilumab (a biologic) may be used.\n",
      "\n",
      "5. **Phototherapy**: This involves the use of ultraviolet light to treat eczema.\n",
      "\n",
      "6. **Antihistamines**: These can help relieve itching, although they do not treat the underlying cause of eczema.\n",
      "\n",
      "7. **Avoidance of Triggers**: Identifying and avoiding specific triggers that worsen eczema, such as certain soaps, detergents, or allergens.\n",
      "\n",
      "8. **Wet Dressings**: For weeping and exudative lesions, bathing and wet dressings are required. Gauze dressings kept moist with saline or dilute potassium permanganate solution (1:8000) or aluminium subacetate solution (8 per cent) should be used.\n",
      "\n",
      "9. **Shampoos**: These can be helpful for psoriasis and seborrhoeic dermatitis of the scalp.\n",
      "\n",
      "The choice of treatment depends on the severity and extent of the eczema, as well as the individual's response to treatment. It's important to consult with a healthcare provider for personalized advice.\n",
      "\n",
      "Sources:\n"
     ]
    },
    {
     "ename": "KeyError",
     "evalue": "'source'",
     "output_type": "error",
     "traceback": [
      "\u001b[1;31m---------------------------------------------------------------------------\u001b[0m",
      "\u001b[1;31mKeyError\u001b[0m                                  Traceback (most recent call last)",
      "\u001b[1;32mc:\\Users\\vishw\\OneDrive - Centennial College\\SEM 6\\AI CAPSTONE\\SknAi - RAG\\test.ipynb Cell 12\u001b[0m line \u001b[0;36m1\n\u001b[0;32m      <a href='vscode-notebook-cell:/c%3A/Users/vishw/OneDrive%20-%20Centennial%20College/SEM%206/AI%20CAPSTONE/SknAi%20-%20RAG/test.ipynb#X14sZmlsZQ%3D%3D?line=8'>9</a>\u001b[0m \u001b[39mprint\u001b[39m(\u001b[39m\"\u001b[39m\u001b[39m\\n\u001b[39;00m\u001b[39mSources:\u001b[39m\u001b[39m\"\u001b[39m)\n\u001b[0;32m     <a href='vscode-notebook-cell:/c%3A/Users/vishw/OneDrive%20-%20Centennial%20College/SEM%206/AI%20CAPSTONE/SknAi%20-%20RAG/test.ipynb#X14sZmlsZQ%3D%3D?line=9'>10</a>\u001b[0m \u001b[39mfor\u001b[39;00m doc \u001b[39min\u001b[39;00m result[\u001b[39m\"\u001b[39m\u001b[39msource_documents\u001b[39m\u001b[39m\"\u001b[39m]:\n\u001b[1;32m---> <a href='vscode-notebook-cell:/c%3A/Users/vishw/OneDrive%20-%20Centennial%20College/SEM%206/AI%20CAPSTONE/SknAi%20-%20RAG/test.ipynb#X14sZmlsZQ%3D%3D?line=10'>11</a>\u001b[0m     \u001b[39mprint\u001b[39m(\u001b[39mf\u001b[39m\u001b[39m\"\u001b[39m\u001b[39m- \u001b[39m\u001b[39m{\u001b[39;00mdoc\u001b[39m.\u001b[39;49mmetadata[\u001b[39m'\u001b[39;49m\u001b[39msource\u001b[39;49m\u001b[39m'\u001b[39;49m]\u001b[39m}\u001b[39;00m\u001b[39m\"\u001b[39m)\n",
      "\u001b[1;31mKeyError\u001b[0m: 'source'"
     ]
    }
   ],
   "source": [
    "# Test with a user query\n",
    "query = \"What are treatments of Eczema?\" \n",
    "result = qa_chain({\"query\": query})\n",
    "\n",
    "# Print the response\n",
    "print(\"AI Response:\", result[\"result\"])\n",
    "\n",
    "# Print sources\n",
    "print(\"\\nSources:\")\n",
    "for doc in result[\"source_documents\"]:\n",
    "    print(f\"- {doc.metadata['source']}\")\n"
   ]
  }
 ],
 "metadata": {
  "kernelspec": {
   "display_name": "Python 3",
   "language": "python",
   "name": "python3"
  },
  "language_info": {
   "codemirror_mode": {
    "name": "ipython",
    "version": 3
   },
   "file_extension": ".py",
   "mimetype": "text/x-python",
   "name": "python",
   "nbconvert_exporter": "python",
   "pygments_lexer": "ipython3",
   "version": "3.12.2"
  }
 },
 "nbformat": 4,
 "nbformat_minor": 2
}
