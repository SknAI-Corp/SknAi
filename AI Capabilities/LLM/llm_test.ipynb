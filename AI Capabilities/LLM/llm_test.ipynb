{
 "cells": [
  {
   "cell_type": "code",
   "execution_count": 3,
   "metadata": {},
   "outputs": [
    {
     "name": "stderr",
     "output_type": "stream",
     "text": [
      "c:\\Users\\vishw\\AppData\\Local\\Programs\\Python\\Python312\\Lib\\site-packages\\pinecone\\data\\index.py:1: TqdmWarning: IProgress not found. Please update jupyter and ipywidgets. See https://ipywidgets.readthedocs.io/en/stable/user_install.html\n",
      "  from tqdm.autonotebook import tqdm\n"
     ]
    }
   ],
   "source": [
    "import os\n",
    "import torch\n",
    "import pinecone\n",
    "from transformers import AutoModel, AutoTokenizer\n",
    "from langchain.vectorstores import Pinecone\n",
    "from langchain.chains import RetrievalQA\n",
    "from langchain_core.prompts import ChatPromptTemplate\n",
    "from langchain_mistralai import ChatMistralAI\n",
    "from tqdm import tqdm"
   ]
  },
  {
   "cell_type": "code",
   "execution_count": 2,
   "metadata": {},
   "outputs": [
    {
     "name": "stderr",
     "output_type": "stream",
     "text": [
      "c:\\Users\\vishw\\AppData\\Local\\Programs\\Python\\Python312\\Lib\\site-packages\\pinecone\\data\\index.py:1: TqdmWarning: IProgress not found. Please update jupyter and ipywidgets. See https://ipywidgets.readthedocs.io/en/stable/user_install.html\n",
      "  from tqdm.autonotebook import tqdm\n"
     ]
    }
   ],
   "source": [
    "import pinecone\n",
    "import torch\n",
    "from langchain.vectorstores import Pinecone\n",
    "from langchain.chains import RetrievalQA\n",
    "from langchain_core.prompts import ChatPromptTemplate\n",
    "from transformers import AutoModel, AutoTokenizer\n",
    "import os"
   ]
  },
  {
   "cell_type": "code",
   "execution_count": 4,
   "metadata": {},
   "outputs": [],
   "source": [
    "import os\n",
    "os.environ[\"MISTRAL_API_KEY\"] = os.getenv(\"MISTRAL_API_KEY\")\n",
    "os.environ[\"PINECONE_API_KEY\"] = os.getenv(\"PINECONE_API_KEY\")\n",
    "os.environ[\"PINECONE_ENV\"] = \"us-east-1\"\n"
   ]
  },
  {
   "cell_type": "code",
   "execution_count": 5,
   "metadata": {},
   "outputs": [],
   "source": [
    "# Initialize Pinecone\n",
    "pc = pinecone.Pinecone(api_key=os.environ[\"PINECONE_API_KEY\"])\n",
    "index_name = \"sknai\""
   ]
  },
  {
   "cell_type": "code",
   "execution_count": 19,
   "metadata": {},
   "outputs": [],
   "source": [
    "tokenizer = AutoTokenizer.from_pretrained(\"monologg/biobert_v1.1_pubmed\")\n",
    "model = AutoModel.from_pretrained(\"monologg/biobert_v1.1_pubmed\")\n",
    "\n",
    "def embed_text(text):\n",
    "    \"\"\"Generate BioBERT embeddings for a given text.\"\"\"\n",
    "    inputs = tokenizer(text, return_tensors=\"pt\", padding=True, truncation=True)\n",
    "    with torch.no_grad():\n",
    "        outputs = model(**inputs)\n",
    "    return outputs.last_hidden_state[:, 0, :].squeeze().tolist() "
   ]
  },
  {
   "cell_type": "code",
   "execution_count": 7,
   "metadata": {},
   "outputs": [
    {
     "name": "stderr",
     "output_type": "stream",
     "text": [
      "C:\\Users\\vishw\\AppData\\Local\\Temp\\ipykernel_14312\\1600786067.py:1: LangChainDeprecationWarning: The class `Pinecone` was deprecated in LangChain 0.0.18 and will be removed in 1.0. An updated version of the class exists in the :class:`~langchain-pinecone package and should be used instead. To use it run `pip install -U :class:`~langchain-pinecone` and import as `from :class:`~langchain_pinecone import Pinecone``.\n",
      "  vector_store = Pinecone(\n",
      "c:\\Users\\vishw\\AppData\\Local\\Programs\\Python\\Python312\\Lib\\site-packages\\langchain_community\\vectorstores\\pinecone.py:68: UserWarning: Passing in `embedding` as a Callable is deprecated. Please pass in an Embeddings object instead.\n",
      "  warnings.warn(\n"
     ]
    }
   ],
   "source": [
    "vector_store = Pinecone(\n",
    "    index=pc.Index(index_name),  # Use the Pinecone client to access the index\n",
    "    embedding=embed_text,        # Use the embedding function\n",
    "    text_key=\"text\"              # Assuming 'text' is the key for the documents\n",
    ")"
   ]
  },
  {
   "cell_type": "code",
   "execution_count": 16,
   "metadata": {},
   "outputs": [
    {
     "name": "stdout",
     "output_type": "stream",
     "text": [
      "\n",
      "Direct Pinecone Query Results:\n",
      "Score: 0.792724729\n",
      "Text: dome. They usually resolve spontaneously 32.11 Warts within 6–18 months. They often become red and inflamed which is a sign that that individual See Chap. 34. lesion is regressing (Fig. 32.7). Treatment is usually not necessary unless they are very unsightly or uncomfortable. As 32.12 Molluscum Contagiosum molluscum are associated with dry skin, mois- turising the skin in the affected area with a thick, This is a harmless pox virus infection most com- grease moisturiser may help speed up the reso- monly seen in children with dry skin or eczema. lution. “Crystacide®” contains hydrogen perox- The pox virus may cause an immune response ide, which is known as a disinfectant and has resulting in\n",
      "Chunk ID: 948\n",
      "--------------------------------------------------\n",
      "Score: 0.789101958\n",
      "Text: lata is caused by secondary ent as tiny, white, dome-shaped papules with a syphilis. It can present as greyish-white moist central umbilicated crater on the shaft of the penis raised patches on the penis and can be easily con- or the pubic area. They are usually multiple and fused with genital warts (condyloma acuminata). often sexually transmitted. Unlike viral warts, they All suspicious lesions on the penis in men should are not associated with penile intraepithelial neo- be investigated with a VDRL blood test to rule plasia or cervical cancer in women. Molluscum out syphilis. usually responds to very light cryosurgery (3–5 s) Extra-mammary Paget’s disease is a rare with or without\n",
      "Chunk ID: 1199\n",
      "--------------------------------------------------\n",
      "Score: 0.789099097\n",
      "Text: is the main source of fungal organisms that infect Albicans and a variety of other non-virulent the nail. The most common organism is organisms and irritants to penetrate the periungual Trichophyton Rubrum which also causes tinea space over weeks or months. It presents as chronic paedis. It is usually painless and shows little signs swelling, tenderness and redness in the area of the of inflammation. Only about 50% of discoloured nail fold with accompanying non-specific nail or dystrophic-appearing nails have a fungal infec- plate irregularities, including ridging and discol- tion confirmed with dermatophyte on culture. oration. Treatment involves careful hand and nail Tinea unguium\n",
      "Chunk ID: 1385\n",
      "--------------------------------------------------\n"
     ]
    }
   ],
   "source": [
    "# Interactive query for similarity search\n",
    "query = input(\"Enter your query for similarity search: \")\n",
    "query_embedding = embed_text(query)\n",
    "\n",
    "# Perform similarity search in Pinecone\n",
    "pinecone_results = pc.Index(index_name).query(\n",
    "    vector=query_embedding,\n",
    "    top_k=3,\n",
    "    include_metadata=True\n",
    ")\n",
    "\n",
    "# Display the results from the similarity search\n",
    "print(\"\\nDirect Pinecone Query Results:\")\n",
    "for match in pinecone_results[\"matches\"]:\n",
    "    print(\"Score:\", match[\"score\"])\n",
    "    print(\"Text:\", match[\"metadata\"].get(\"text\", \"No text available\"))\n",
    "    print(\"Chunk ID:\", match.get(\"metadata\", {}).get(\"chunk_id\", \"No chunk ID available\"))\n",
    "    print(\"-\" * 50)"
   ]
  },
  {
   "cell_type": "code",
   "execution_count": 9,
   "metadata": {},
   "outputs": [],
   "source": [
    "# Setup retriever\n",
    "retriever = vector_store.as_retriever(search_kwargs={\"k\": 50})\n",
    "\n",
    "import getpass\n",
    "import os\n",
    "\n",
    "if \"MISTRAL_API_KEY\" not in os.environ:\n",
    "    os.environ[\"MISTRAL_API_KEY\"] = getpass.getpass(\"Enter your Mistral API key: \")\n",
    "    \n",
    "from langchain_mistralai import ChatMistralAI\n",
    "\n",
    "llm = ChatMistralAI(\n",
    "    model=\"mistral-large-latest\",\n",
    "    temperature=0.4,\n",
    "    max_retries=2,\n",
    "   \n",
    ")\n"
   ]
  },
  {
   "cell_type": "code",
   "execution_count": 10,
   "metadata": {},
   "outputs": [],
   "source": [
    "prompt = ChatPromptTemplate.from_messages([\n",
    "    (\"system\", \" You are a dermatologist and you are asked to provide answers to patient questions about skin conditions in very simple terms like a doctor who explains to the patient. You can use the following information to help you answer the questions:\"),\n",
    "    (\"human\", \"{question}\")\n",
    "])\n",
    "# Create RetrievalQA chain\n",
    "qa_chain = RetrievalQA.from_chain_type(\n",
    "    llm=llm,\n",
    "    chain_type=\"stuff\",  # Stuffing retrieved docs into the prompt\n",
    "    retriever=retriever,\n",
    "    return_source_documents=True\n",
    ")"
   ]
  },
  {
   "cell_type": "code",
   "execution_count": 11,
   "metadata": {},
   "outputs": [],
   "source": [
    "from langchain_core.messages.tool import ToolOutputMixin\n"
   ]
  },
  {
   "cell_type": "code",
   "execution_count": 11,
   "metadata": {},
   "outputs": [
    {
     "name": "stdout",
     "output_type": "stream",
     "text": [
      "Retrieved Documents:\n",
      "\n",
      "Document 1:\n",
      "Content: gradually heals with routine care.One other rare complication only occurs with the largest ofcapillary angiomas.Blood platelets become sequestered in the abnor- mal vascular channels of the angioma,creating a consumption coagulopathy and uncontrolled bleeding (Katzenbach–Merritt syndrome).The bleeding can be dealt Figure 12.20 Small strawberry naevus on the with by administration ofsystemic steroids. left side of the nose. CAVERNOUS HAEMANGIOMA This is a soft, compressible, mauvish-blue\n",
      "Metadata: {'chunk_id': '784'}\n",
      "\n",
      "Document 2:\n",
      "Content: skin is put together and how it functions in health.Although,at first glance,skin may appear quite complicated to the uniniti- ated, a slightly deeper look shows that there is a kind of elegant logic about its architecture,which is directed to subserving vital functions. THE SKIN SURFACE The skin surface is the delineation between living processes and the potentially injurious outside world and has not only a symbolic importance because of this, but also the important task ofpreventing and\n",
      "Metadata: {'chunk_id': '27'}\n",
      "\n",
      "Document 3:\n",
      "Content: also cause skin thinning Patients may produce a variety of lesions (dermatitis and marked infection. artefacta). Rarely,patients may harbour a delusion ● Imidazoles and povidone iodine preparations are that their skin is infested by insects. amongst the safest and most useful of the topical ● Dysmorphophobia describes the problem of antimicrobial agents. people’s distorted self-image (e.g. their nose is ● Skin surgery is a growing area of work for too big,they have too much hair).\n",
      "Metadata: {'chunk_id': '1279'}\n"
     ]
    }
   ],
   "source": [
    "query = \"What is bacterial infection?\"\n",
    "similar_docs = vector_store.similarity_search(query, k=3)  # top 3 similar documents\n",
    "\n",
    "print(\"Retrieved Documents:\")\n",
    "for i, doc in enumerate(similar_docs, start=1):\n",
    "    print(f\"\\nDocument {i}:\")\n",
    "    print(\"Content:\", doc.page_content)  # or doc.content if that's your field name\n",
    "    print(\"Metadata:\", doc.metadata)"
   ]
  },
  {
   "cell_type": "code",
   "execution_count": 17,
   "metadata": {},
   "outputs": [
    {
     "name": "stdout",
     "output_type": "stream",
     "text": [
      "Welcome to the Interactive Dermatologist Assistant!\n",
      "Type 'exit' to quit.\n",
      "AI Response: Based on the provided context, here are some treatment options available for warts:\n",
      "\n",
      "1. **Salicylic Acid**: This is a topical treatment that has a cure rate of about 75% when used properly. It should be applied after paring down the hard keratin with an emery board or blade every night before applying the topical agent and continuing the treatment for at least 6–12 weeks.\n",
      "\n",
      "2. **Cryotherapy**: This involves freezing the wart with liquid nitrogen. It can be effective but may require multiple treatments.\n",
      "\n",
      "3. **Intralesional Bleomycin or Interferon**: These can be effective treatments for resistant warts but are expensive, very painful, and only available in some hospital dermatology departments.\n",
      "\n",
      "4. **Duct Tape**: There is some evidence that covering the wart with duct tape for a period of time can help resolve it.\n",
      "\n",
      "5. **Wait and See**: Warts may resolve on their own without treatment. They usually resolve spontaneously within 6–18 months.\n",
      "\n",
      "If you're considering treatment, it's best to consult with a healthcare professional to discuss the options and determine the best course of action for your specific situation.\n",
      "Thank you for using the assistant!\n"
     ]
    }
   ],
   "source": [
    "# Interactive loop for user queries\n",
    "print(\"Welcome to the Interactive Dermatologist Assistant!\")\n",
    "print(\"Type 'exit' to quit.\")\n",
    "\n",
    "while True:\n",
    "    query = input(\"\\nYour question: \")\n",
    "    \n",
    "    if query.lower() == 'exit':\n",
    "        print(\"Goodbye!\")\n",
    "        break\n",
    "    \n",
    "    # Test with the user query\n",
    "    result = qa_chain({\"query\": query})\n",
    "\n",
    "    # Print the AI response\n",
    "    print(\"AI Response:\", result[\"result\"])\n",
    "    \n",
    "    # Option for follow-up questions\n",
    "    follow_up = input(\"\\nDo you have any follow-up questions? (yes/no): \")\n",
    "    if follow_up.lower() == 'yes':\n",
    "        continue\n",
    "    else:\n",
    "        print(\"Thank you for using the assistant!\")\n",
    "        break"
   ]
  }
 ],
 "metadata": {
  "kernelspec": {
   "display_name": "Python 3",
   "language": "python",
   "name": "python3"
  },
  "language_info": {
   "codemirror_mode": {
    "name": "ipython",
    "version": 3
   },
   "file_extension": ".py",
   "mimetype": "text/x-python",
   "name": "python",
   "nbconvert_exporter": "python",
   "pygments_lexer": "ipython3",
   "version": "3.12.2"
  }
 },
 "nbformat": 4,
 "nbformat_minor": 2
}
