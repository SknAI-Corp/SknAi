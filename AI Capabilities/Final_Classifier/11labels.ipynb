{
 "cells": [
  {
   "cell_type": "code",
   "execution_count": null,
   "metadata": {},
   "outputs": [],
   "source": [
    "from datasets import load_dataset, Dataset, DatasetDict, Features, ClassLabel, Image\n",
    "import os\n",
    "\n",
    "# Step 1: Load Existing HF Training Dataset\n",
    "dataset_name = \"your_username/your_dataset\"  # Replace with your HF dataset name\n",
    "datasets = load_dataset(dataset_name)\n",
    "\n",
    "# Step 2: Update Label Mapping (Add \"Normal Skin\")\n",
    "label_names = datasets[\"train\"].features[\"label\"].names + [\"Normal Skin\"]\n",
    "\n",
    "# Create new mappings\n",
    "id2label = {i: label for i, label in enumerate(label_names)}\n",
    "label2id = {label: i for i, label in enumerate(label_names)}\n",
    "\n",
    "print(\"Updated Labels:\", id2label)\n",
    "\n",
    "# Step 3: Load and Prepare New Class Images\n",
    "new_class_images = \"path_to_new_class_images\"  # Update with actual path\n",
    "new_class_label = 10  # Assign label 10 to \"Normal Skin\"\n",
    "\n",
    "# Load new class images\n",
    "new_data = [{\"image\": os.path.join(new_class_images, img), \"label\": new_class_label} \n",
    "            for img in os.listdir(new_class_images) if img.endswith(('.png', '.jpg', '.jpeg'))]\n",
    "\n",
    "# Convert to Hugging Face Dataset\n",
    "new_dataset = Dataset.from_list(new_data).cast_column(\"image\", Image())\n",
    "\n",
    "print(\"New Dataset Sample:\", new_dataset[0])\n",
    "\n",
    "# Step 4: Merge the New Label into the Existing Training Dataset\n",
    "updated_train_dataset = datasets[\"train\"].concatenate(new_dataset)\n",
    "\n",
    "# Update dataset with new label mapping\n",
    "updated_train_dataset = updated_train_dataset.cast_column(\"label\", ClassLabel(names=label_names))\n",
    "\n",
    "# Wrap updated dataset in DatasetDict\n",
    "updated_dataset = DatasetDict({\"train\": updated_train_dataset})\n",
    "\n",
    "# Step 5: Push the Updated Dataset to Hugging Face\n",
    "updated_dataset.push_to_hub(\"your_username/your_updated_dataset\", private=True)  # Set private=True if needed\n",
    "\n",
    "print(\"✅ Dataset updated successfully on Hugging Face!\")\n"
   ]
  }
 ],
 "metadata": {
  "kernelspec": {
   "display_name": "base",
   "language": "python",
   "name": "python3"
  },
  "language_info": {
   "codemirror_mode": {
    "name": "ipython",
    "version": 3
   },
   "file_extension": ".py",
   "mimetype": "text/x-python",
   "name": "python",
   "nbconvert_exporter": "python",
   "pygments_lexer": "ipython3",
   "version": "3.11.7"
  }
 },
 "nbformat": 4,
 "nbformat_minor": 2
}
